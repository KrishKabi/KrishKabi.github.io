{
 "cells": [
  {
   "cell_type": "code",
   "execution_count": 1,
   "id": "9e26b6e6",
   "metadata": {},
   "outputs": [
    {
     "name": "stdout",
     "output_type": "stream",
     "text": [
      "Requirement already satisfied: nltk in c:\\users\\krish kabi\\anaconda3\\lib\\site-packages (3.6.1)\n",
      "Requirement already satisfied: click in c:\\users\\krish kabi\\anaconda3\\lib\\site-packages (from nltk) (7.1.2)\n",
      "Requirement already satisfied: joblib in c:\\users\\krish kabi\\anaconda3\\lib\\site-packages (from nltk) (1.0.1)\n",
      "Requirement already satisfied: regex in c:\\users\\krish kabi\\anaconda3\\lib\\site-packages (from nltk) (2021.4.4)\n",
      "Requirement already satisfied: tqdm in c:\\users\\krish kabi\\anaconda3\\lib\\site-packages (from nltk) (4.59.0)\n"
     ]
    },
    {
     "name": "stderr",
     "output_type": "stream",
     "text": [
      "WARNING: Ignoring invalid distribution -andas (c:\\users\\krish kabi\\anaconda3\\lib\\site-packages)\n",
      "WARNING: Ignoring invalid distribution -umpy (c:\\users\\krish kabi\\anaconda3\\lib\\site-packages)\n",
      "WARNING: Ignoring invalid distribution -andas (c:\\users\\krish kabi\\anaconda3\\lib\\site-packages)\n",
      "WARNING: Ignoring invalid distribution -umpy (c:\\users\\krish kabi\\anaconda3\\lib\\site-packages)\n",
      "DEPRECATION: pyodbc 4.0.0-unsupported has a non-standard version number. pip 24.0 will enforce this behaviour change. A possible replacement is to upgrade to a newer version of pyodbc or contact the author to suggest that they release a version with a conforming version number. Discussion can be found at https://github.com/pypa/pip/issues/12063\n"
     ]
    }
   ],
   "source": [
    "# Natural Language Toolkit\n",
    "\n",
    "!pip install nltk"
   ]
  },
  {
   "cell_type": "markdown",
   "id": "2a4dfa5e",
   "metadata": {},
   "source": [
    "## Exploratory Data Analysis"
   ]
  },
  {
   "cell_type": "markdown",
   "id": "0e640fc0",
   "metadata": {},
   "source": [
    "Let's begin by loading my Instagram data stored in JSON files. I used the glob module to recursively find all JSON files in a specified directory and its subdirectories."
   ]
  },
  {
   "cell_type": "code",
   "execution_count": 2,
   "id": "be41e4dd",
   "metadata": {
    "scrolled": false
   },
   "outputs": [],
   "source": [
    "import os\n",
    "import glob\n",
    "import pandas as pd\n",
    "import json\n",
    "\n",
    "# set the path to the directory where the JSON files are located\n",
    "path = \"C:/Users/Krish Kabi/Documents/Data Analysis Projects/Instagram Sentiment Analysis/Instagram Data\"\n",
    "\n",
    "# use glob to find all the JSON files in the directory + its subdirectories\n",
    "json_files = glob.glob(os.path.join(path, '**/*.json'), recursive=True)"
   ]
  },
  {
   "cell_type": "code",
   "execution_count": 3,
   "id": "47cf8120",
   "metadata": {},
   "outputs": [],
   "source": [
    "# print(json_files)"
   ]
  },
  {
   "cell_type": "markdown",
   "id": "d7f58d31",
   "metadata": {},
   "source": [
    "This sample JSON file titled 'post_comments_1.json' contains my comments on Instagram posts. Let's explore it to understand the structure of data and identify any relevant fields."
   ]
  },
  {
   "cell_type": "code",
   "execution_count": 4,
   "id": "cf2053b4",
   "metadata": {},
   "outputs": [
    {
     "name": "stdout",
     "output_type": "stream",
     "text": [
      "Sample Data:\n",
      "[{'media_list_data': [{'uri': ''}], 'string_map_data': {'Comment': {'value': 'Haha I rmmbr this ð\\x9f\\x98\\x82ð\\x9f\\x98\\x82'}, 'Media Owner': {'value': 'biggestchaabitothesuccess'}, 'Time': {'timestamp': 1705538403}}}, {'media_list_data': [{'uri': ''}], 'string_map_data': {'Comment': {'value': '.'}, 'Media Owner': {'value': 'pubity'}, 'Time': {'timestamp': 1704272780}}}, {'media_list_data': [{'uri': ''}], 'string_map_data': {'Comment': {'value': 'The gangster life*'}, 'Media Owner': {'value': 'athul.abraham'}, 'Time': {'timestamp': 1704075749}}}, {'media_list_data': [{'uri': ''}], 'string_map_data': {'Comment': {'value': '.'}, 'Media Owner': {'value': 'pubity'}, 'Time': {'timestamp': 1703979970}}}, {'media_list_data': [{'uri': ''}], 'string_map_data': {'Comment': {'value': '.'}, 'Media Owner': {'value': 'pubity'}, 'Time': {'timestamp': 1703910410}}}]\n"
     ]
    }
   ],
   "source": [
    "# Choose one JSON file for exploration (e.g., 'post_comments_1.json')\n",
    "sample_file_path = \"C:/Users/Krish Kabi/Documents/Data Analysis Projects/Instagram Sentiment Analysis/Instagram Data/your_instagram_activity/comments/post_comments_1.json\"\n",
    "\n",
    "# Load the JSON file\n",
    "with open(sample_file_path, 'r') as file:\n",
    "    sample_data = json.load(file)\n",
    "\n",
    "# Display the first few records\n",
    "print(\"Sample Data:\")\n",
    "print(sample_data[:5])"
   ]
  },
  {
   "cell_type": "markdown",
   "id": "d156d52e",
   "metadata": {},
   "source": [
    "These three JSON files below represent various aspects of my Instagram activity, such as comments, content, and likes. Let's create a function to merge these files into a single Pandas DataFrame, considering the potential variation in file structures."
   ]
  },
  {
   "cell_type": "code",
   "execution_count": 5,
   "id": "b2d65c88",
   "metadata": {
    "scrolled": true
   },
   "outputs": [
    {
     "name": "stdout",
     "output_type": "stream",
     "text": [
      "    media_list_data string_map_data.Comment.value  \\\n",
      "0     [{'uri': ''}]    Haha I rmmbr this ðð   \n",
      "1     [{'uri': ''}]                             .   \n",
      "2     [{'uri': ''}]            The gangster life*   \n",
      "3     [{'uri': ''}]                             .   \n",
      "4     [{'uri': ''}]                             .   \n",
      "..              ...                           ...   \n",
      "469             NaN                           NaN   \n",
      "470             NaN                           NaN   \n",
      "471             NaN                           NaN   \n",
      "472             NaN                           NaN   \n",
      "473             NaN                           NaN   \n",
      "\n",
      "    string_map_data.Media Owner.value  string_map_data.Time.timestamp  \\\n",
      "0           biggestchaabitothesuccess                    1.705538e+09   \n",
      "1                              pubity                    1.704273e+09   \n",
      "2                       athul.abraham                    1.704076e+09   \n",
      "3                              pubity                    1.703980e+09   \n",
      "4                              pubity                    1.703910e+09   \n",
      "..                                ...                             ...   \n",
      "469                               NaN                             NaN   \n",
      "470                               NaN                             NaN   \n",
      "471                               NaN                             NaN   \n",
      "472                               NaN                             NaN   \n",
      "473                               NaN                             NaN   \n",
      "\n",
      "    comments_reels_comments media title  creation_timestamp  \\\n",
      "0                       NaN   NaN   NaN                 NaN   \n",
      "1                       NaN   NaN   NaN                 NaN   \n",
      "2                       NaN   NaN   NaN                 NaN   \n",
      "3                       NaN   NaN   NaN                 NaN   \n",
      "4                       NaN   NaN   NaN                 NaN   \n",
      "..                      ...   ...   ...                 ...   \n",
      "469                     NaN   NaN   NaN                 NaN   \n",
      "470                     NaN   NaN   NaN                 NaN   \n",
      "471                     NaN   NaN   NaN                 NaN   \n",
      "472                     NaN   NaN   NaN                 NaN   \n",
      "473                     NaN   NaN   NaN                 NaN   \n",
      "\n",
      "                                    ig_profile_picture  \\\n",
      "0                                                  NaN   \n",
      "1                                                  NaN   \n",
      "2                                                  NaN   \n",
      "3                                                  NaN   \n",
      "4                                                  NaN   \n",
      "..                                                 ...   \n",
      "469  [{'uri': 'media/profile/202311/403808021_17687...   \n",
      "470                                                NaN   \n",
      "471                                                NaN   \n",
      "472                                                NaN   \n",
      "473                                                NaN   \n",
      "\n",
      "                                        ig_reels_media  \\\n",
      "0                                                  NaN   \n",
      "1                                                  NaN   \n",
      "2                                                  NaN   \n",
      "3                                                  NaN   \n",
      "4                                                  NaN   \n",
      "..                                                 ...   \n",
      "469                                                NaN   \n",
      "470  [{'media': [{'uri': 'media/reels/202302/FQIoAk...   \n",
      "471                                                NaN   \n",
      "472                                                NaN   \n",
      "473                                                NaN   \n",
      "\n",
      "                                            ig_stories  \\\n",
      "0                                                  NaN   \n",
      "1                                                  NaN   \n",
      "2                                                  NaN   \n",
      "3                                                  NaN   \n",
      "4                                                  NaN   \n",
      "..                                                 ...   \n",
      "469                                                NaN   \n",
      "470                                                NaN   \n",
      "471  [{'uri': 'media/stories/202312/410666744_27813...   \n",
      "472                                                NaN   \n",
      "473                                                NaN   \n",
      "\n",
      "                                   likes_comment_likes  \\\n",
      "0                                                  NaN   \n",
      "1                                                  NaN   \n",
      "2                                                  NaN   \n",
      "3                                                  NaN   \n",
      "4                                                  NaN   \n",
      "..                                                 ...   \n",
      "469                                                NaN   \n",
      "470                                                NaN   \n",
      "471                                                NaN   \n",
      "472  [{'title': 'l0okitsamaar', 'string_list_data':...   \n",
      "473                                                NaN   \n",
      "\n",
      "                                     likes_media_likes  \n",
      "0                                                  NaN  \n",
      "1                                                  NaN  \n",
      "2                                                  NaN  \n",
      "3                                                  NaN  \n",
      "4                                                  NaN  \n",
      "..                                                 ...  \n",
      "469                                                NaN  \n",
      "470                                                NaN  \n",
      "471                                                NaN  \n",
      "472                                                NaN  \n",
      "473  [{'title': 'shatakshi_kabi', 'string_list_data...  \n",
      "\n",
      "[474 rows x 13 columns]\n"
     ]
    }
   ],
   "source": [
    "# Set the path to the directory where the JSON files are located\n",
    "path = \"C:/Users/Krish Kabi/Documents/Data Analysis Projects/Instagram Sentiment Analysis/Instagram Data\"\n",
    "\n",
    "# Define folders of interest\n",
    "folders_of_interest = [\n",
    "    'your_instagram_activity/comments/',\n",
    "    'your_instagram_activity/content/',\n",
    "    'your_instagram_activity/likes/'\n",
    "]\n",
    "\n",
    "# Create an empty list to store dataframes\n",
    "dfs = []\n",
    "\n",
    "# Loop through folders and load JSON files\n",
    "for folder in folders_of_interest:\n",
    "    folder_path = os.path.join(path, folder)\n",
    "    json_files = glob.glob(os.path.join(folder_path, '*.json'))\n",
    "    \n",
    "    # Loop through JSON files in the folder\n",
    "    for json_file in json_files:\n",
    "        with open(json_file, 'r') as file:\n",
    "            data = json.load(file)\n",
    "            # You can process or analyze data here if needed\n",
    "            # For now, let's create a DataFrame for each JSON file\n",
    "            df = pd.json_normalize(data)\n",
    "            dfs.append(df)\n",
    "\n",
    "# Concatenate dataframes into a single dataframe\n",
    "merged_df = pd.concat(dfs, ignore_index=True)\n",
    "\n",
    "# Display the first few records of the merged dataframe\n",
    "print(merged_df)"
   ]
  },
  {
   "cell_type": "markdown",
   "id": "2cb96f0b",
   "metadata": {},
   "source": [
    "Before proceeding with sentiment analysis, we may need to clean the data, handle missing values, and possibly extract relevant features for analysis. Additionally, we can explore specific columns to gain insights into the nature of the Instagram data."
   ]
  },
  {
   "cell_type": "code",
   "execution_count": 6,
   "id": "8e6125ee",
   "metadata": {},
   "outputs": [
    {
     "name": "stdout",
     "output_type": "stream",
     "text": [
      "<class 'pandas.core.frame.DataFrame'>\n",
      "RangeIndex: 474 entries, 0 to 473\n",
      "Data columns (total 13 columns):\n",
      " #   Column                             Non-Null Count  Dtype  \n",
      "---  ------                             --------------  -----  \n",
      " 0   media_list_data                    445 non-null    object \n",
      " 1   string_map_data.Comment.value      445 non-null    object \n",
      " 2   string_map_data.Media Owner.value  343 non-null    object \n",
      " 3   string_map_data.Time.timestamp     445 non-null    float64\n",
      " 4   comments_reels_comments            1 non-null      object \n",
      " 5   media                              23 non-null     object \n",
      " 6   title                              20 non-null     object \n",
      " 7   creation_timestamp                 20 non-null     float64\n",
      " 8   ig_profile_picture                 1 non-null      object \n",
      " 9   ig_reels_media                     1 non-null      object \n",
      " 10  ig_stories                         1 non-null      object \n",
      " 11  likes_comment_likes                1 non-null      object \n",
      " 12  likes_media_likes                  1 non-null      object \n",
      "dtypes: float64(2), object(11)\n",
      "memory usage: 48.3+ KB\n",
      "\n",
      "Missing Values:\n",
      "media_list_data                       29\n",
      "string_map_data.Comment.value         29\n",
      "string_map_data.Media Owner.value    131\n",
      "string_map_data.Time.timestamp        29\n",
      "comments_reels_comments              473\n",
      "media                                451\n",
      "title                                454\n",
      "creation_timestamp                   454\n",
      "ig_profile_picture                   473\n",
      "ig_reels_media                       473\n",
      "ig_stories                           473\n",
      "likes_comment_likes                  473\n",
      "likes_media_likes                    473\n",
      "dtype: int64\n"
     ]
    }
   ],
   "source": [
    "# Display basic information about the DataFrame\n",
    "merged_df.info()\n",
    "\n",
    "# Check for missing values in each column\n",
    "missing_values = merged_df.isnull().sum()\n",
    "print(\"\\nMissing Values:\")\n",
    "print(missing_values)"
   ]
  },
  {
   "cell_type": "markdown",
   "id": "889edbac",
   "metadata": {},
   "source": [
    "There are missing values in several columns, and some columns have a high percentage of missing values, such as 'comments_reels_comments', 'media', 'title', 'creation_timestamp', 'ig_profile_picture', 'ig_reels_media', 'ig_stories', 'likes_comment_likes', and 'likes_media_likes'.\n",
    "\n",
    "We'll address these issues by performing the following tasks:\n",
    "\n",
    "1. Drop columns with a high percentage of missing values: Columns like 'comments_reels_comments', 'media', 'title', 'creation_timestamp', 'ig_profile_picture', 'ig_reels_media', 'ig_stories', 'likes_comment_likes', and 'likes_media_likes' have a high number of missing values and might not provide meaningful insights. We can drop these columns.\n",
    "\n",
    "2. Handle missing values in remaining columns: For columns like 'string_map_data.Media Owner.value', we can explore the data and decide whether to impute missing values or drop rows with missing values based on the nature of the data.\n",
    "\n",
    "Let's start with dropping columns and then proceed with further cleaning:"
   ]
  },
  {
   "cell_type": "code",
   "execution_count": 7,
   "id": "ca5c2302",
   "metadata": {},
   "outputs": [
    {
     "name": "stdout",
     "output_type": "stream",
     "text": [
      "<class 'pandas.core.frame.DataFrame'>\n",
      "RangeIndex: 474 entries, 0 to 473\n",
      "Data columns (total 4 columns):\n",
      " #   Column                             Non-Null Count  Dtype  \n",
      "---  ------                             --------------  -----  \n",
      " 0   media_list_data                    445 non-null    object \n",
      " 1   string_map_data.Comment.value      445 non-null    object \n",
      " 2   string_map_data.Media Owner.value  343 non-null    object \n",
      " 3   string_map_data.Time.timestamp     445 non-null    float64\n",
      "dtypes: float64(1), object(3)\n",
      "memory usage: 14.9+ KB\n",
      "\n",
      "Missing Values in Cleaned DataFrame:\n",
      "media_list_data                       29\n",
      "string_map_data.Comment.value         29\n",
      "string_map_data.Media Owner.value    131\n",
      "string_map_data.Time.timestamp        29\n",
      "dtype: int64\n"
     ]
    }
   ],
   "source": [
    "# Drop columns with a high percentage of missing values\n",
    "columns_to_drop = ['comments_reels_comments', 'media', 'title', 'creation_timestamp', 'ig_profile_picture', 'ig_reels_media', 'ig_stories', 'likes_comment_likes', 'likes_media_likes']\n",
    "merged_df = merged_df.drop(columns=columns_to_drop)\n",
    "\n",
    "# Display basic information about the cleaned DataFrame\n",
    "merged_df.info()\n",
    "\n",
    "# Check for missing values in the cleaned DataFrame\n",
    "missing_values = merged_df.isnull().sum()\n",
    "print(\"\\nMissing Values in Cleaned DataFrame:\")\n",
    "print(missing_values)"
   ]
  },
  {
   "cell_type": "markdown",
   "id": "019a13b3",
   "metadata": {},
   "source": [
    "We've successfully dropped columns with a high percentage of missing values. Now, let's proceed with handling the missing values in the remaining columns.\n",
    "\n",
    "1. 'string_map_data.Media Owner.value': this column represents the media owner so we can choose to impute missing values with a placeholder like \"Unknown\" or drop rows with missing values based on the importance of this information for sentiment analysis.\n",
    "\n",
    "2. Other columns: for 'media_list_data', 'string_map_data.Comment.value', and 'string_map_data.Time.timestamp', we can analyze the data distribution and decide whether to impute missing values or drop rows based on the nature of the data.\n",
    "\n",
    "The 'string_map_data.Media Owner.value' column might be important for sentiment analysis later so let's impute missing values with \"Unknown\":"
   ]
  },
  {
   "cell_type": "code",
   "execution_count": 8,
   "id": "c06c7b99",
   "metadata": {},
   "outputs": [],
   "source": [
    "# Impute missing values in 'string_map_data.Media Owner.value' with \"Unknown\"\n",
    "merged_df['string_map_data.Media Owner.value'].fillna(\"Unknown\", inplace=True)"
   ]
  },
  {
   "cell_type": "markdown",
   "id": "edf9612a",
   "metadata": {},
   "source": [
    "For the remaining columns, let's carry out the following actions:\n",
    "\n",
    "- Impute 'media_list_data' with an empty list\n",
    "- Keep rows with missing 'string_map_data.Comment.value'\n",
    "- Impute 'string_map_data.Time.timestamp' with the median timestamp"
   ]
  },
  {
   "cell_type": "code",
   "execution_count": 9,
   "id": "769cdae5",
   "metadata": {},
   "outputs": [],
   "source": [
    "# Impute missing values in 'media_list_data' with an empty list\n",
    "merged_df['media_list_data'].fillna(value=pd.Series([[]] * len(merged_df)), inplace=True)\n",
    "\n",
    "# Impute missing values in 'string_map_data.Time.timestamp' with the median timestamp\n",
    "median_timestamp = merged_df['string_map_data.Time.timestamp'].median()\n",
    "merged_df['string_map_data.Time.timestamp'].fillna(median_timestamp, inplace=True)\n",
    "\n",
    "# Impute missing values in 'string_map_data.Comment.value' with \"No Comment\"\n",
    "merged_df['string_map_data.Comment.value'].fillna(value=\"No Comment\", inplace=True)"
   ]
  },
  {
   "cell_type": "code",
   "execution_count": 10,
   "id": "e7f4d56a",
   "metadata": {},
   "outputs": [
    {
     "data": {
      "text/html": [
       "<div>\n",
       "<style scoped>\n",
       "    .dataframe tbody tr th:only-of-type {\n",
       "        vertical-align: middle;\n",
       "    }\n",
       "\n",
       "    .dataframe tbody tr th {\n",
       "        vertical-align: top;\n",
       "    }\n",
       "\n",
       "    .dataframe thead th {\n",
       "        text-align: right;\n",
       "    }\n",
       "</style>\n",
       "<table border=\"1\" class=\"dataframe\">\n",
       "  <thead>\n",
       "    <tr style=\"text-align: right;\">\n",
       "      <th></th>\n",
       "      <th>media_list_data</th>\n",
       "      <th>string_map_data.Comment.value</th>\n",
       "      <th>string_map_data.Media Owner.value</th>\n",
       "      <th>string_map_data.Time.timestamp</th>\n",
       "    </tr>\n",
       "  </thead>\n",
       "  <tbody>\n",
       "    <tr>\n",
       "      <th>0</th>\n",
       "      <td>[{'uri': ''}]</td>\n",
       "      <td>Haha I rmmbr this ðð</td>\n",
       "      <td>biggestchaabitothesuccess</td>\n",
       "      <td>1.705538e+09</td>\n",
       "    </tr>\n",
       "    <tr>\n",
       "      <th>1</th>\n",
       "      <td>[{'uri': ''}]</td>\n",
       "      <td>.</td>\n",
       "      <td>pubity</td>\n",
       "      <td>1.704273e+09</td>\n",
       "    </tr>\n",
       "    <tr>\n",
       "      <th>2</th>\n",
       "      <td>[{'uri': ''}]</td>\n",
       "      <td>The gangster life*</td>\n",
       "      <td>athul.abraham</td>\n",
       "      <td>1.704076e+09</td>\n",
       "    </tr>\n",
       "    <tr>\n",
       "      <th>3</th>\n",
       "      <td>[{'uri': ''}]</td>\n",
       "      <td>.</td>\n",
       "      <td>pubity</td>\n",
       "      <td>1.703980e+09</td>\n",
       "    </tr>\n",
       "    <tr>\n",
       "      <th>4</th>\n",
       "      <td>[{'uri': ''}]</td>\n",
       "      <td>.</td>\n",
       "      <td>pubity</td>\n",
       "      <td>1.703910e+09</td>\n",
       "    </tr>\n",
       "    <tr>\n",
       "      <th>...</th>\n",
       "      <td>...</td>\n",
       "      <td>...</td>\n",
       "      <td>...</td>\n",
       "      <td>...</td>\n",
       "    </tr>\n",
       "    <tr>\n",
       "      <th>469</th>\n",
       "      <td>[]</td>\n",
       "      <td>No Comment</td>\n",
       "      <td>Unknown</td>\n",
       "      <td>1.617797e+09</td>\n",
       "    </tr>\n",
       "    <tr>\n",
       "      <th>470</th>\n",
       "      <td>[]</td>\n",
       "      <td>No Comment</td>\n",
       "      <td>Unknown</td>\n",
       "      <td>1.617797e+09</td>\n",
       "    </tr>\n",
       "    <tr>\n",
       "      <th>471</th>\n",
       "      <td>[]</td>\n",
       "      <td>No Comment</td>\n",
       "      <td>Unknown</td>\n",
       "      <td>1.617797e+09</td>\n",
       "    </tr>\n",
       "    <tr>\n",
       "      <th>472</th>\n",
       "      <td>[]</td>\n",
       "      <td>No Comment</td>\n",
       "      <td>Unknown</td>\n",
       "      <td>1.617797e+09</td>\n",
       "    </tr>\n",
       "    <tr>\n",
       "      <th>473</th>\n",
       "      <td>[]</td>\n",
       "      <td>No Comment</td>\n",
       "      <td>Unknown</td>\n",
       "      <td>1.617797e+09</td>\n",
       "    </tr>\n",
       "  </tbody>\n",
       "</table>\n",
       "<p>474 rows × 4 columns</p>\n",
       "</div>"
      ],
      "text/plain": [
       "    media_list_data string_map_data.Comment.value  \\\n",
       "0     [{'uri': ''}]    Haha I rmmbr this ðð   \n",
       "1     [{'uri': ''}]                             .   \n",
       "2     [{'uri': ''}]            The gangster life*   \n",
       "3     [{'uri': ''}]                             .   \n",
       "4     [{'uri': ''}]                             .   \n",
       "..              ...                           ...   \n",
       "469              []                    No Comment   \n",
       "470              []                    No Comment   \n",
       "471              []                    No Comment   \n",
       "472              []                    No Comment   \n",
       "473              []                    No Comment   \n",
       "\n",
       "    string_map_data.Media Owner.value  string_map_data.Time.timestamp  \n",
       "0           biggestchaabitothesuccess                    1.705538e+09  \n",
       "1                              pubity                    1.704273e+09  \n",
       "2                       athul.abraham                    1.704076e+09  \n",
       "3                              pubity                    1.703980e+09  \n",
       "4                              pubity                    1.703910e+09  \n",
       "..                                ...                             ...  \n",
       "469                           Unknown                    1.617797e+09  \n",
       "470                           Unknown                    1.617797e+09  \n",
       "471                           Unknown                    1.617797e+09  \n",
       "472                           Unknown                    1.617797e+09  \n",
       "473                           Unknown                    1.617797e+09  \n",
       "\n",
       "[474 rows x 4 columns]"
      ]
     },
     "execution_count": 10,
     "metadata": {},
     "output_type": "execute_result"
    }
   ],
   "source": [
    "merged_df"
   ]
  },
  {
   "cell_type": "code",
   "execution_count": 11,
   "id": "d36673bd",
   "metadata": {},
   "outputs": [
    {
     "name": "stdout",
     "output_type": "stream",
     "text": [
      "Missing Values in Cleaned DataFrame:\n",
      "media_list_data                      0\n",
      "string_map_data.Comment.value        0\n",
      "string_map_data.Media Owner.value    0\n",
      "string_map_data.Time.timestamp       0\n",
      "dtype: int64\n"
     ]
    }
   ],
   "source": [
    "# Check for missing values in the cleaned DataFrame\n",
    "missing_values = merged_df.isnull().sum()\n",
    "\n",
    "# Display missing values\n",
    "print(\"Missing Values in Cleaned DataFrame:\")\n",
    "print(missing_values)"
   ]
  },
  {
   "cell_type": "markdown",
   "id": "887e9cc7",
   "metadata": {},
   "source": [
    "There aren't any missing or null values in the dataset so let's proceed with sentiment analysis."
   ]
  },
  {
   "cell_type": "markdown",
   "id": "fc179b98",
   "metadata": {},
   "source": [
    "## Data Pre-processing"
   ]
  },
  {
   "cell_type": "markdown",
   "id": "ef2af9c7",
   "metadata": {},
   "source": [
    "For sentiment analysis on Instagram data, we'll use lemmatization. Lemmatization tends to give more meaningful results for social media text, as it reduces words to their base form, considering the context of the entire sentence. It helps in maintaining the semantic meaning of words, which is crucial for sentiment analysis."
   ]
  },
  {
   "cell_type": "markdown",
   "id": "237fbe21",
   "metadata": {},
   "source": [
    "### Lemmatization\n",
    "\n",
    "We'll be using the Natural Language Toolkit (nltk) library for lemmatization. We'll first lemmatize the comment text in the 'string_map_data.Comment.value' column."
   ]
  },
  {
   "cell_type": "code",
   "execution_count": 12,
   "id": "e7bd9304",
   "metadata": {},
   "outputs": [
    {
     "name": "stderr",
     "output_type": "stream",
     "text": [
      "C:\\Users\\Krish Kabi\\anaconda3\\lib\\site-packages\\scipy\\__init__.py:138: UserWarning: A NumPy version >=1.16.5 and <1.23.0 is required for this version of SciPy (detected version 1.24.4)\n",
      "  warnings.warn(f\"A NumPy version >={np_minversion} and <{np_maxversion} is required for this version of \"\n",
      "[nltk_data] Downloading package punkt to C:\\Users\\Krish\n",
      "[nltk_data]     Kabi\\AppData\\Roaming\\nltk_data...\n",
      "[nltk_data]   Package punkt is already up-to-date!\n",
      "[nltk_data] Downloading package wordnet to C:\\Users\\Krish\n",
      "[nltk_data]     Kabi\\AppData\\Roaming\\nltk_data...\n",
      "[nltk_data]   Package wordnet is already up-to-date!\n",
      "[nltk_data] Downloading package averaged_perceptron_tagger to\n",
      "[nltk_data]     C:\\Users\\Krish Kabi\\AppData\\Roaming\\nltk_data...\n",
      "[nltk_data]   Package averaged_perceptron_tagger is already up-to-\n",
      "[nltk_data]       date!\n"
     ]
    }
   ],
   "source": [
    "import nltk\n",
    "from nltk.corpus import wordnet\n",
    "from nltk.stem import WordNetLemmatizer\n",
    "\n",
    "# Download the NLTK punkt tokenizer data\n",
    "nltk.download('punkt')\n",
    "# Download the WordNet lemmatizer data\n",
    "nltk.download('wordnet')\n",
    "\n",
    "nltk.download('averaged_perceptron_tagger')\n",
    "\n",
    "# Function to convert the part of speech tag returned by nltk.pos_tag to the WordNet part of speech\n",
    "def get_wordnet_pos(treebank_tag):\n",
    "    if treebank_tag.startswith('J'):\n",
    "        return wordnet.ADJ\n",
    "    elif treebank_tag.startswith('V'):\n",
    "        return wordnet.VERB\n",
    "    elif treebank_tag.startswith('N'):\n",
    "        return wordnet.NOUN\n",
    "    elif treebank_tag.startswith('R'):\n",
    "        return wordnet.ADV\n",
    "    else:\n",
    "        return wordnet.NOUN  # Default to NOUN if not recognized\n",
    "\n",
    "# Function to perform lemmatization on a sentence\n",
    "def lemmatize_sentence(sentence):\n",
    "    lemmatizer = WordNetLemmatizer()\n",
    "    tokens = nltk.word_tokenize(sentence)\n",
    "    pos_tags = nltk.pos_tag(tokens)\n",
    "    lemmatized_tokens = [lemmatizer.lemmatize(token, get_wordnet_pos(pos_tag)) for token, pos_tag in pos_tags]\n",
    "    return ' '.join(lemmatized_tokens)\n",
    "\n",
    "# Apply lemmatization to the 'string_map_data.Comment.value' column\n",
    "merged_df['string_map_data.Comment.value'] = merged_df['string_map_data.Comment.value'].apply(lemmatize_sentence)"
   ]
  },
  {
   "cell_type": "markdown",
   "id": "85ac7eb3",
   "metadata": {},
   "source": [
    "### Text Cleaning\n",
    "\n",
    "Next, we'll perform text cleaning. In this step, we'll remove unnecessary characters, symbols, and numbers from the comments. The goal is to retain only the relevant text that contributes to the sentiment. We'll use the Python re (regular expression) library for this purpose."
   ]
  },
  {
   "cell_type": "code",
   "execution_count": 13,
   "id": "79b88c30",
   "metadata": {},
   "outputs": [
    {
     "name": "stdout",
     "output_type": "stream",
     "text": [
      "Cleaned Data:\n",
      "0      haha i rmmbr this \n",
      "1                        \n",
      "2      the gangster life \n",
      "3                        \n",
      "4                        \n",
      "              ...        \n",
      "469            no comment\n",
      "470            no comment\n",
      "471            no comment\n",
      "472            no comment\n",
      "473            no comment\n",
      "Name: string_map_data.Comment.value, Length: 474, dtype: object\n"
     ]
    }
   ],
   "source": [
    "import re\n",
    "\n",
    "# Function to clean text\n",
    "def clean_text(text):\n",
    "    # Remove special characters, numbers, and punctuation\n",
    "    text = re.sub(r'[^a-zA-Z\\s]', '', text)\n",
    "    # Convert to lowercase\n",
    "    text = text.lower()\n",
    "    return text\n",
    "\n",
    "# Apply text cleaning to the 'string_map_data.Comment.value' column\n",
    "merged_df['string_map_data.Comment.value'] = merged_df['string_map_data.Comment.value'].apply(clean_text)\n",
    "\n",
    "# Display the first few cleaned records\n",
    "print(\"Cleaned Data:\")\n",
    "print(merged_df['string_map_data.Comment.value'])"
   ]
  },
  {
   "cell_type": "markdown",
   "id": "b39a75ff",
   "metadata": {},
   "source": [
    "### Tokenization\n",
    "\n",
    "Next, we'll perform tokenization. Tokenization involves breaking down the cleaned text into individual words or tokens."
   ]
  },
  {
   "cell_type": "code",
   "execution_count": 14,
   "id": "84844802",
   "metadata": {},
   "outputs": [
    {
     "name": "stdout",
     "output_type": "stream",
     "text": [
      "Tokenized Data:\n",
      "0      [haha, i, rmmbr, this]\n",
      "1                          []\n",
      "2       [the, gangster, life]\n",
      "3                          []\n",
      "4                          []\n",
      "                ...          \n",
      "469             [no, comment]\n",
      "470             [no, comment]\n",
      "471             [no, comment]\n",
      "472             [no, comment]\n",
      "473             [no, comment]\n",
      "Name: string_map_data.Comment.value, Length: 474, dtype: object\n"
     ]
    }
   ],
   "source": [
    "from nltk.tokenize import word_tokenize\n",
    "\n",
    "# Function for tokenization\n",
    "def tokenize_text(text):\n",
    "    tokens = word_tokenize(text)\n",
    "    return tokens\n",
    "\n",
    "# Apply tokenization to the 'string_map_data.Comment.value' column\n",
    "merged_df['string_map_data.Comment.value'] = merged_df['string_map_data.Comment.value'].apply(tokenize_text)\n",
    "\n",
    "# Display the first few tokenized records\n",
    "print(\"Tokenized Data:\")\n",
    "print(merged_df['string_map_data.Comment.value'])"
   ]
  },
  {
   "cell_type": "markdown",
   "id": "ff85f37d",
   "metadata": {},
   "source": [
    "### Stopwords\n",
    "\n",
    "Now, let's proceed with stopword removal. In NLP, stopwords are words that are common like \"the\", \"and\", \"is\", and often don't contribute much to the meaning of a sentence. Removing them can help reduce dimensionality and improve the efficiency of the analysis."
   ]
  },
  {
   "cell_type": "code",
   "execution_count": 15,
   "id": "940841ee",
   "metadata": {},
   "outputs": [
    {
     "name": "stdout",
     "output_type": "stream",
     "text": [
      "Data after Stopword Removal:\n",
      "0         [haha, rmmbr]\n",
      "1                    []\n",
      "2      [gangster, life]\n",
      "3                    []\n",
      "4                    []\n",
      "             ...       \n",
      "469           [comment]\n",
      "470           [comment]\n",
      "471           [comment]\n",
      "472           [comment]\n",
      "473           [comment]\n",
      "Name: string_map_data.Comment.value, Length: 474, dtype: object\n"
     ]
    },
    {
     "name": "stderr",
     "output_type": "stream",
     "text": [
      "[nltk_data] Downloading package stopwords to C:\\Users\\Krish\n",
      "[nltk_data]     Kabi\\AppData\\Roaming\\nltk_data...\n",
      "[nltk_data]   Package stopwords is already up-to-date!\n"
     ]
    }
   ],
   "source": [
    "from nltk.corpus import stopwords\n",
    "\n",
    "# Download the stopwords if not already downloaded\n",
    "nltk.download('stopwords')\n",
    "\n",
    "# Get the English stopwords\n",
    "stop_words = set(stopwords.words('english'))\n",
    "\n",
    "# Function for stopword removal\n",
    "def remove_stopwords(tokens):\n",
    "    filtered_tokens = [token for token in tokens if token.lower() not in stop_words]\n",
    "    return filtered_tokens\n",
    "\n",
    "# Apply stopword removal to the 'string_map_data.Comment.value' column\n",
    "merged_df['string_map_data.Comment.value'] = merged_df['string_map_data.Comment.value'].apply(remove_stopwords)\n",
    "\n",
    "# Display the first few records after stopword removal\n",
    "print(\"Data after Stopword Removal:\")\n",
    "print(merged_df['string_map_data.Comment.value'])"
   ]
  },
  {
   "cell_type": "markdown",
   "id": "9b44e8f1",
   "metadata": {},
   "source": [
    "### Word Cloud\n",
    "\n",
    "Let's generate a word cloud depicting the words in the datafram in different sizes depending on their frequency of use."
   ]
  },
  {
   "cell_type": "code",
   "execution_count": 16,
   "id": "66e67388",
   "metadata": {},
   "outputs": [
    {
     "name": "stdout",
     "output_type": "stream",
     "text": [
      "Requirement already satisfied: wordcloud in c:\\users\\krish kabi\\anaconda3\\lib\\site-packages (1.9.3)\n",
      "Requirement already satisfied: numpy>=1.6.1 in c:\\users\\krish kabi\\appdata\\roaming\\python\\python38\\site-packages (from wordcloud) (1.24.4)\n",
      "Requirement already satisfied: pillow in c:\\users\\krish kabi\\anaconda3\\lib\\site-packages (from wordcloud) (10.2.0)\n",
      "Requirement already satisfied: matplotlib in c:\\users\\krish kabi\\anaconda3\\lib\\site-packages (from wordcloud) (3.3.4)\n",
      "Requirement already satisfied: cycler>=0.10 in c:\\users\\krish kabi\\anaconda3\\lib\\site-packages (from matplotlib->wordcloud) (0.10.0)\n",
      "Requirement already satisfied: kiwisolver>=1.0.1 in c:\\users\\krish kabi\\anaconda3\\lib\\site-packages (from matplotlib->wordcloud) (1.3.1)\n",
      "Requirement already satisfied: pyparsing!=2.0.4,!=2.1.2,!=2.1.6,>=2.0.3 in c:\\users\\krish kabi\\anaconda3\\lib\\site-packages (from matplotlib->wordcloud) (2.4.7)\n",
      "Requirement already satisfied: python-dateutil>=2.1 in c:\\users\\krish kabi\\anaconda3\\lib\\site-packages (from matplotlib->wordcloud) (2.8.2)\n",
      "Requirement already satisfied: six in c:\\users\\krish kabi\\anaconda3\\lib\\site-packages (from cycler>=0.10->matplotlib->wordcloud) (1.15.0)\n"
     ]
    },
    {
     "name": "stderr",
     "output_type": "stream",
     "text": [
      "WARNING: Ignoring invalid distribution -andas (c:\\users\\krish kabi\\anaconda3\\lib\\site-packages)\n",
      "WARNING: Ignoring invalid distribution -umpy (c:\\users\\krish kabi\\anaconda3\\lib\\site-packages)\n",
      "WARNING: Ignoring invalid distribution -andas (c:\\users\\krish kabi\\anaconda3\\lib\\site-packages)\n",
      "WARNING: Ignoring invalid distribution -umpy (c:\\users\\krish kabi\\anaconda3\\lib\\site-packages)\n",
      "DEPRECATION: pyodbc 4.0.0-unsupported has a non-standard version number. pip 24.0 will enforce this behaviour change. A possible replacement is to upgrade to a newer version of pyodbc or contact the author to suggest that they release a version with a conforming version number. Discussion can be found at https://github.com/pypa/pip/issues/12063\n"
     ]
    }
   ],
   "source": [
    "!pip install wordcloud"
   ]
  },
  {
   "cell_type": "code",
   "execution_count": 17,
   "id": "9333f313",
   "metadata": {},
   "outputs": [],
   "source": [
    "# !pip install --upgrade pip\n",
    "\n",
    "# !pip install --upgrade Pillow"
   ]
  },
  {
   "cell_type": "code",
   "execution_count": 18,
   "id": "98238560",
   "metadata": {},
   "outputs": [
    {
     "data": {
      "image/png": "[encoded data removed]",
      "text/plain": [
       "<Figure size 720x360 with 1 Axes>"
      ]
     },
     "metadata": {
      "needs_background": "light"
     },
     "output_type": "display_data"
    }
   ],
   "source": [
    "from wordcloud import STOPWORDS\n",
    "from matplotlib import pyplot as plt\n",
    "from wordcloud import WordCloud\n",
    "\n",
    "# Concatenate all the comments into a single string\n",
    "all_comments = ' '.join(merged_df['string_map_data.Comment.value'].astype(str))\n",
    "\n",
    "# Create and generate a word cloud\n",
    "wordcloud = WordCloud(width=800, height=400, background_color='white', stopwords=STOPWORDS).generate(all_comments)\n",
    "\n",
    "# Display the word cloud using matplotlib\n",
    "plt.figure(figsize=(10, 5))\n",
    "plt.imshow(wordcloud, interpolation='bilinear')\n",
    "plt.axis('off')\n",
    "plt.show()"
   ]
  },
  {
   "cell_type": "markdown",
   "id": "990bcde7",
   "metadata": {},
   "source": [
    "### Vectorization\n",
    "\n",
    "The last step before moving on to Sentiment Analysis is vectorization. Vectorization converts text data into numerical vectors that can be understood by machine learning models. The approach we'll be using is TF-IDF (Term Frequency-Inverse Document Frequency) or Count Vectorization."
   ]
  },
  {
   "cell_type": "code",
   "execution_count": 19,
   "id": "1a1bf3fb",
   "metadata": {},
   "outputs": [
    {
     "name": "stdout",
     "output_type": "stream",
     "text": [
      "     aayushi  accident  act  actress  actually  adilsheikh  adjust  admit  \\\n",
      "0        0.0       0.0  0.0      0.0       0.0         0.0     0.0    0.0   \n",
      "1        0.0       0.0  0.0      0.0       0.0         0.0     0.0    0.0   \n",
      "2        0.0       0.0  0.0      0.0       0.0         0.0     0.0    0.0   \n",
      "3        0.0       0.0  0.0      0.0       0.0         0.0     0.0    0.0   \n",
      "4        0.0       0.0  0.0      0.0       0.0         0.0     0.0    0.0   \n",
      "..       ...       ...  ...      ...       ...         ...     ...    ...   \n",
      "469      0.0       0.0  0.0      0.0       0.0         0.0     0.0    0.0   \n",
      "470      0.0       0.0  0.0      0.0       0.0         0.0     0.0    0.0   \n",
      "471      0.0       0.0  0.0      0.0       0.0         0.0     0.0    0.0   \n",
      "472      0.0       0.0  0.0      0.0       0.0         0.0     0.0    0.0   \n",
      "473      0.0       0.0  0.0      0.0       0.0         0.0     0.0    0.0   \n",
      "\n",
      "     adopted  adventure  ...  youuu  youve  yup  yusuf  yusufs  zach  zehra  \\\n",
      "0        0.0        0.0  ...    0.0    0.0  0.0    0.0     0.0   0.0    0.0   \n",
      "1        0.0        0.0  ...    0.0    0.0  0.0    0.0     0.0   0.0    0.0   \n",
      "2        0.0        0.0  ...    0.0    0.0  0.0    0.0     0.0   0.0    0.0   \n",
      "3        0.0        0.0  ...    0.0    0.0  0.0    0.0     0.0   0.0    0.0   \n",
      "4        0.0        0.0  ...    0.0    0.0  0.0    0.0     0.0   0.0    0.0   \n",
      "..       ...        ...  ...    ...    ...  ...    ...     ...   ...    ...   \n",
      "469      0.0        0.0  ...    0.0    0.0  0.0    0.0     0.0   0.0    0.0   \n",
      "470      0.0        0.0  ...    0.0    0.0  0.0    0.0     0.0   0.0    0.0   \n",
      "471      0.0        0.0  ...    0.0    0.0  0.0    0.0     0.0   0.0    0.0   \n",
      "472      0.0        0.0  ...    0.0    0.0  0.0    0.0     0.0   0.0    0.0   \n",
      "473      0.0        0.0  ...    0.0    0.0  0.0    0.0     0.0   0.0    0.0   \n",
      "\n",
      "     zehraxxnaqvi  zendaya  zina  \n",
      "0             0.0      0.0   0.0  \n",
      "1             0.0      0.0   0.0  \n",
      "2             0.0      0.0   0.0  \n",
      "3             0.0      0.0   0.0  \n",
      "4             0.0      0.0   0.0  \n",
      "..            ...      ...   ...  \n",
      "469           0.0      0.0   0.0  \n",
      "470           0.0      0.0   0.0  \n",
      "471           0.0      0.0   0.0  \n",
      "472           0.0      0.0   0.0  \n",
      "473           0.0      0.0   0.0  \n",
      "\n",
      "[474 rows x 739 columns]\n"
     ]
    }
   ],
   "source": [
    "from sklearn.feature_extraction.text import TfidfVectorizer\n",
    "\n",
    "# Fill NaN values with empty lists in the 'string_map_data.Comment.value' column\n",
    "merged_df['string_map_data.Comment.value'] = merged_df['string_map_data.Comment.value'].apply(lambda x: [] if pd.isna(x).any() else x)\n",
    "\n",
    "# Convert lists of words to strings\n",
    "merged_df['string_map_data.Comment.value'] = merged_df['string_map_data.Comment.value'].apply(lambda x: ' '.join(x) if isinstance(x, list) else x)\n",
    "\n",
    "# Initialize the TF-IDF vectorizer\n",
    "tfidf_vectorizer = TfidfVectorizer(max_features=1000)\n",
    "\n",
    "# Fit and transform the data\n",
    "tfidf_matrix = tfidf_vectorizer.fit_transform(merged_df['string_map_data.Comment.value'])\n",
    "\n",
    "# Convert the TF-IDF matrix to a DataFrame\n",
    "tfidf_df = pd.DataFrame(tfidf_matrix.toarray(), columns=tfidf_vectorizer.get_feature_names())\n",
    "\n",
    "# Display the TF-IDF DataFrame\n",
    "print(tfidf_df)"
   ]
  },
  {
   "cell_type": "markdown",
   "id": "40520656",
   "metadata": {},
   "source": [
    "## Sentiment Analysis"
   ]
  },
  {
   "cell_type": "markdown",
   "id": "03a42052",
   "metadata": {},
   "source": [
    "Let's attempt performing sentiment analysis using TextBlob. TextBlob is built on top of NLTK and provides a simple API for common natural language processing (NLP) tasks such as sentiment analysis."
   ]
  },
  {
   "cell_type": "code",
   "execution_count": 20,
   "id": "a1e35abc",
   "metadata": {},
   "outputs": [
    {
     "name": "stdout",
     "output_type": "stream",
     "text": [
      "Requirement already satisfied: textblob in c:\\users\\krish kabi\\anaconda3\\lib\\site-packages (0.17.1)\n",
      "Requirement already satisfied: nltk>=3.1 in c:\\users\\krish kabi\\anaconda3\\lib\\site-packages (from textblob) (3.6.1)\n",
      "Requirement already satisfied: click in c:\\users\\krish kabi\\anaconda3\\lib\\site-packages (from nltk>=3.1->textblob) (7.1.2)\n",
      "Requirement already satisfied: joblib in c:\\users\\krish kabi\\anaconda3\\lib\\site-packages (from nltk>=3.1->textblob) (1.0.1)\n",
      "Requirement already satisfied: regex in c:\\users\\krish kabi\\anaconda3\\lib\\site-packages (from nltk>=3.1->textblob) (2021.4.4)\n",
      "Requirement already satisfied: tqdm in c:\\users\\krish kabi\\anaconda3\\lib\\site-packages (from nltk>=3.1->textblob) (4.59.0)\n"
     ]
    },
    {
     "name": "stderr",
     "output_type": "stream",
     "text": [
      "WARNING: Ignoring invalid distribution -andas (c:\\users\\krish kabi\\anaconda3\\lib\\site-packages)\n",
      "WARNING: Ignoring invalid distribution -umpy (c:\\users\\krish kabi\\anaconda3\\lib\\site-packages)\n",
      "WARNING: Ignoring invalid distribution -andas (c:\\users\\krish kabi\\anaconda3\\lib\\site-packages)\n",
      "WARNING: Ignoring invalid distribution -umpy (c:\\users\\krish kabi\\anaconda3\\lib\\site-packages)\n",
      "DEPRECATION: pyodbc 4.0.0-unsupported has a non-standard version number. pip 24.0 will enforce this behaviour change. A possible replacement is to upgrade to a newer version of pyodbc or contact the author to suggest that they release a version with a conforming version number. Discussion can be found at https://github.com/pypa/pip/issues/12063\n"
     ]
    }
   ],
   "source": [
    "!pip install textblob"
   ]
  },
  {
   "cell_type": "code",
   "execution_count": 21,
   "id": "57759003",
   "metadata": {},
   "outputs": [
    {
     "name": "stdout",
     "output_type": "stream",
     "text": [
      "Sentiment: positive\n"
     ]
    }
   ],
   "source": [
    "from textblob import TextBlob\n",
    "\n",
    "# Assuming 'text' is your text data\n",
    "text = \"I love using ChatGPT. It's amazing!\"\n",
    "\n",
    "# Create a TextBlob object\n",
    "blob = TextBlob(text)\n",
    "\n",
    "# Get the sentiment polarity (ranges from -1 to 1)\n",
    "sentiment_polarity = blob.sentiment.polarity\n",
    "\n",
    "# Label the sentiment based on polarity\n",
    "if sentiment_polarity > 0:\n",
    "    sentiment_label = 'positive'\n",
    "elif sentiment_polarity < 0:\n",
    "    sentiment_label = 'negative'\n",
    "else:\n",
    "    sentiment_label = 'neutral'\n",
    "\n",
    "print(f\"Sentiment: {sentiment_label}\")"
   ]
  },
  {
   "cell_type": "markdown",
   "id": "7b71fc55",
   "metadata": {},
   "source": [
    "This will add a new column ('sentiment') to the DataFrame, indicating the sentiment of each comment"
   ]
  },
  {
   "cell_type": "code",
   "execution_count": 22,
   "id": "c7a56126",
   "metadata": {},
   "outputs": [
    {
     "name": "stdout",
     "output_type": "stream",
     "text": [
      "    string_map_data.Comment.value sentiment\n",
      "0                      haha rmmbr  positive\n",
      "1                                   neutral\n",
      "2                   gangster life   neutral\n",
      "3                                   neutral\n",
      "4                                   neutral\n",
      "..                            ...       ...\n",
      "469                       comment   neutral\n",
      "470                       comment   neutral\n",
      "471                       comment   neutral\n",
      "472                       comment   neutral\n",
      "473                       comment   neutral\n",
      "\n",
      "[474 rows x 2 columns]\n"
     ]
    }
   ],
   "source": [
    "comments = merged_df['string_map_data.Comment.value']\n",
    "\n",
    "# Function to get sentiment polarity using TextBlob\n",
    "def get_sentiment(comment):\n",
    "    analysis = TextBlob(comment)\n",
    "    # Classify the polarity as positive, negative, or neutral\n",
    "    if analysis.sentiment.polarity > 0:\n",
    "        return 'positive'\n",
    "    elif analysis.sentiment.polarity < 0:\n",
    "        return 'negative'\n",
    "    else:\n",
    "        return 'neutral'\n",
    "\n",
    "# Apply the sentiment analysis function to each comment\n",
    "merged_df['sentiment'] = comments.apply(get_sentiment)\n",
    "\n",
    "# Display the DataFrame with sentiment labels\n",
    "print(merged_df[['string_map_data.Comment.value', 'sentiment']])"
   ]
  },
  {
   "cell_type": "markdown",
   "id": "f63c91f4",
   "metadata": {},
   "source": [
    "### Visualization of Sentiments\n",
    "\n",
    "The next step is to analyze and visualize the sentiment distribution in the Instagram comments. This will provide insights into the overall sentiment of the comments. We'll use matplotlib and seaborn for visualization."
   ]
  },
  {
   "cell_type": "code",
   "execution_count": 23,
   "id": "9aa641d7",
   "metadata": {},
   "outputs": [
    {
     "data": {
      "image/png": "[encoded data removed]",
      "text/plain": [
       "<Figure size 576x432 with 1 Axes>"
      ]
     },
     "metadata": {
      "needs_background": "light"
     },
     "output_type": "display_data"
    }
   ],
   "source": [
    "import matplotlib.pyplot as plt\n",
    "import seaborn as sns\n",
    "\n",
    "# Count the number of comments in each sentiment category\n",
    "sentiment_counts = merged_df['sentiment'].value_counts()\n",
    "\n",
    "# Plot a bar chart\n",
    "plt.figure(figsize=(8, 6))\n",
    "sns.barplot(x=sentiment_counts.index, y=sentiment_counts.values, palette=\"viridis\")\n",
    "plt.title('Sentiment Distribution of Instagram Comments')\n",
    "plt.xlabel('Sentiment')\n",
    "plt.ylabel('Number of Comments')\n",
    "plt.show()"
   ]
  },
  {
   "cell_type": "markdown",
   "id": "bc61fc9a",
   "metadata": {},
   "source": [
    "### Training & Testing Data\n",
    "\n",
    "Below is a function that takes care of splitting the data, training the model, fine-tuning, and evaluating its performance. This function will be applied for various classifiers."
   ]
  },
  {
   "cell_type": "code",
   "execution_count": 24,
   "id": "d91eb25d",
   "metadata": {},
   "outputs": [],
   "source": [
    "from sklearn.model_selection import train_test_split, GridSearchCV\n",
    "from sklearn.metrics import accuracy_score\n",
    "\n",
    "def train_evaluate_model(X, y, model, param_grid):\n",
    "    # Split the data into training and testing sets (80% train, 20% test)\n",
    "    X_train, X_test, y_train, y_test = train_test_split(X, y, test_size=0.2, random_state=42)\n",
    "\n",
    "    # Initialize GridSearchCV\n",
    "    grid_search = GridSearchCV(model, param_grid, cv=5, scoring='accuracy', n_jobs=-1)\n",
    "\n",
    "    # Fit the model with the best parameters\n",
    "    grid_search.fit(X_train, y_train)\n",
    "\n",
    "    # Print the best parameters and accuracy\n",
    "    print(\"Best Parameters:\", grid_search.best_params_)\n",
    "    print(\"Best Accuracy:\", grid_search.best_score_)\n",
    "\n",
    "    # Get the best model from GridSearchCV\n",
    "    best_model = grid_search.best_estimator_\n",
    "\n",
    "    # Make predictions on the testing set\n",
    "    y_pred = best_model.predict(X_test)\n",
    "\n",
    "    # Evaluate the model\n",
    "    accuracy = accuracy_score(y_test, y_pred)\n",
    "    return print(\"Test Accuracy:\", accuracy)"
   ]
  },
  {
   "cell_type": "markdown",
   "id": "79817c72",
   "metadata": {},
   "source": [
    "### Logistic Regression\n",
    "\n",
    "We'll attempt this function using Logistic Regression"
   ]
  },
  {
   "cell_type": "code",
   "execution_count": 25,
   "id": "56e0783b",
   "metadata": {},
   "outputs": [
    {
     "name": "stdout",
     "output_type": "stream",
     "text": [
      "Best Parameters: {'C': 100, 'penalty': 'l1', 'solver': 'liblinear'}\n",
      "Best Accuracy: 0.8335438596491228\n",
      "Test Accuracy: 0.8842105263157894\n"
     ]
    },
    {
     "name": "stderr",
     "output_type": "stream",
     "text": [
      "C:\\Users\\Krish Kabi\\anaconda3\\lib\\site-packages\\sklearn\\svm\\_base.py:985: ConvergenceWarning: Liblinear failed to converge, increase the number of iterations.\n",
      "  warnings.warn(\"Liblinear failed to converge, increase \"\n"
     ]
    }
   ],
   "source": [
    "from sklearn.linear_model import LogisticRegression\n",
    "\n",
    "# Vectorized comment data (X) and labeled sentiment column (y)\n",
    "X = tfidf_df\n",
    "y = merged_df['sentiment']\n",
    "\n",
    "# Initialize the logistic regression model\n",
    "logistic_model = LogisticRegression()\n",
    "\n",
    "# Define the parameter grid to search\n",
    "param_grid = {\n",
    "    'C': [0.001, 0.01, 0.1, 1, 10, 100],  # Inverse of regularization strength\n",
    "    'penalty': ['l1', 'l2'],  # Regularization penalty\n",
    "    'solver': ['liblinear']  # Algorithm to use for optimization\n",
    "}\n",
    "\n",
    "# Use the function to train and evaluate the model\n",
    "train_evaluate_model(X, y, logistic_model, param_grid)"
   ]
  },
  {
   "cell_type": "markdown",
   "id": "318c5af1",
   "metadata": {},
   "source": [
    "Great, we acheived an 88.4% accuracy from the Logistic Regression Model after fine-tuning. Let's attempt a Random Forest Classifier model"
   ]
  },
  {
   "cell_type": "markdown",
   "id": "9127e32a",
   "metadata": {},
   "source": [
    "### Random Forest Classifier"
   ]
  },
  {
   "cell_type": "code",
   "execution_count": 26,
   "id": "74b83cd2",
   "metadata": {},
   "outputs": [
    {
     "name": "stdout",
     "output_type": "stream",
     "text": [
      "Best Parameters: {'max_depth': None, 'min_samples_leaf': 1, 'min_samples_split': 5, 'n_estimators': 200}\n",
      "Best Accuracy: 0.8177543859649123\n",
      "Test Accuracy: 0.8421052631578947\n"
     ]
    }
   ],
   "source": [
    "from sklearn.ensemble import RandomForestClassifier\n",
    "\n",
    "# Define the parameter grid to search\n",
    "param_grid = {\n",
    "    'n_estimators': [50, 100, 200],\n",
    "    'max_depth': [None, 10, 20],\n",
    "    'min_samples_split': [2, 5, 10],\n",
    "    'min_samples_leaf': [1, 2, 4]\n",
    "}\n",
    "\n",
    "# Random Forest Classifier\n",
    "random_forest_model = RandomForestClassifier()\n",
    "train_evaluate_model(X, y, random_forest_model, param_grid)"
   ]
  },
  {
   "cell_type": "markdown",
   "id": "36f7daaf",
   "metadata": {},
   "source": [
    "### Additional Models\n",
    "\n",
    "Let's attempt this same procedure with Support Vector Machines (SVM), Gradient Boosting, K-Nearest Neighbors (KNN), and Neural Networks (Multi-Layer Perceptron)"
   ]
  },
  {
   "cell_type": "code",
   "execution_count": 27,
   "id": "316f3ed4",
   "metadata": {},
   "outputs": [
    {
     "name": "stdout",
     "output_type": "stream",
     "text": [
      "SVM:\n",
      "Best Parameters: {'C': 10, 'kernel': 'linear'}\n",
      "Best Accuracy: 0.7834736842105263\n",
      "Test Accuracy: 0.8210526315789474\n",
      "None\n",
      "\n",
      "Gradient Boosting:\n",
      "Best Parameters: {'learning_rate': 0.2, 'max_depth': 3, 'n_estimators': 200}\n",
      "Best Accuracy: 0.8415087719298245\n",
      "Test Accuracy: 0.8736842105263158\n",
      "None\n",
      "\n",
      "KNN:\n",
      "Best Parameters: {'n_neighbors': 3, 'p': 1, 'weights': 'uniform'}\n",
      "Best Accuracy: 0.7070877192982457\n",
      "Test Accuracy: 0.7157894736842105\n",
      "None\n",
      "\n",
      "Neural Networks (MLP):\n",
      "Best Parameters: {'activation': 'relu', 'alpha': 0.0001, 'hidden_layer_sizes': (50,)}\n",
      "Best Accuracy: 0.7808771929824562\n",
      "Test Accuracy: 0.7684210526315789\n",
      "None\n"
     ]
    },
    {
     "name": "stderr",
     "output_type": "stream",
     "text": [
      "C:\\Users\\Krish Kabi\\anaconda3\\lib\\site-packages\\sklearn\\neural_network\\_multilayer_perceptron.py:614: ConvergenceWarning: Stochastic Optimizer: Maximum iterations (200) reached and the optimization hasn't converged yet.\n",
      "  warnings.warn(\n"
     ]
    }
   ],
   "source": [
    "from sklearn.svm import SVC\n",
    "from sklearn.ensemble import GradientBoostingClassifier\n",
    "from sklearn.neighbors import KNeighborsClassifier\n",
    "from sklearn.neural_network import MLPClassifier\n",
    "\n",
    "# Support Vector Machines (SVM)\n",
    "svm_model = SVC()\n",
    "svm_param_grid = {'C': [0.1, 1, 10], 'kernel': ['linear', 'rbf']}\n",
    "print(\"SVM:\")\n",
    "print(train_evaluate_model(X, y, svm_model, svm_param_grid))\n",
    "\n",
    "# Gradient Boosting\n",
    "gb_model = GradientBoostingClassifier()\n",
    "gb_param_grid = {'n_estimators': [50, 100, 200], 'learning_rate': [0.01, 0.1, 0.2], 'max_depth': [3, 5, 7]}\n",
    "print(\"\\nGradient Boosting:\")\n",
    "print(train_evaluate_model(X, y, gb_model, gb_param_grid))\n",
    "\n",
    "# K-Nearest Neighbors (KNN)\n",
    "knn_model = KNeighborsClassifier()\n",
    "knn_param_grid = {'n_neighbors': [3, 5, 7], 'weights': ['uniform', 'distance'], 'p': [1, 2]}\n",
    "print(\"\\nKNN:\")\n",
    "print(train_evaluate_model(X, y, knn_model, knn_param_grid))\n",
    "\n",
    "# Neural Networks (Multi-Layer Perceptron)\n",
    "mlp_model = MLPClassifier()\n",
    "mlp_param_grid = {'hidden_layer_sizes': [(50,), (100,), (50, 50)], 'activation': ['relu', 'tanh'], 'alpha': [0.0001, 0.001, 0.01]}\n",
    "print(\"\\nNeural Networks (MLP):\")\n",
    "print(train_evaluate_model(X, y, mlp_model, mlp_param_grid))"
   ]
  },
  {
   "cell_type": "markdown",
   "id": "135920f8",
   "metadata": {},
   "source": [
    "As we can see, the other models didn't perform as well compared to Logistic Regression, however, the Gradient Boosting algorithm did achieve a slightly better accuracy when compared to Random Forest."
   ]
  },
  {
   "cell_type": "markdown",
   "id": "6dcd56e8",
   "metadata": {},
   "source": [
    "## Prediction Testing"
   ]
  },
  {
   "cell_type": "code",
   "execution_count": 28,
   "id": "1a95b3a7",
   "metadata": {},
   "outputs": [],
   "source": [
    "# Function for preprocessing text\n",
    "def preprocess_text(text):\n",
    "    # Text cleaning: Remove special characters, links, and numbers\n",
    "    text = re.sub(r'http\\S+|www\\S+|https\\S+|\\d+|\\b\\w\\b', '', text, flags=re.M)\n",
    "\n",
    "    # Tokenization\n",
    "    words = nltk.word_tokenize(text)\n",
    "\n",
    "    # Lemmatization\n",
    "    lemmatizer = WordNetLemmatizer()\n",
    "    lemmatized_words = [lemmatizer.lemmatize(word) for word in words]\n",
    "\n",
    "    # Stopwords removal\n",
    "    stop_words = set(stopwords.words('english'))\n",
    "    filtered_words = [word for word in lemmatized_words if word.lower() not in stop_words]\n",
    "\n",
    "    # Convert the list of words back to a string\n",
    "    preprocessed_text = ' '.join(filtered_words)\n",
    "\n",
    "    return preprocessed_text"
   ]
  },
  {
   "cell_type": "code",
   "execution_count": 29,
   "id": "0fe3ab88",
   "metadata": {},
   "outputs": [
    {
     "name": "stdout",
     "output_type": "stream",
     "text": [
      "Predicted Sentiment: negative\n"
     ]
    }
   ],
   "source": [
    "# Sample sentence\n",
    "sample_sentence = \"I don't quite like this\"\n",
    "preprocessed_sentence = preprocess_text(sample_sentence)\n",
    "\n",
    "# Vectorize the preprocessed sentence using the trained TF-IDF vectorizer\n",
    "vectorized_sentence = tfidf_vectorizer.transform([preprocessed_sentence])\n",
    "\n",
    "# Initialize the Logistic Regression model with the best parameters from above\n",
    "logistic_model = LogisticRegression(C=100, penalty='l1', solver='liblinear')\n",
    "\n",
    "# Fit the model (not necessary for prediction, but done for clarity)\n",
    "logistic_model.fit(X, y)\n",
    "\n",
    "# Make predictions using the Logistic Regression model\n",
    "prediction = logistic_model.predict(vectorized_sentence)\n",
    "\n",
    "# Print the predicted sentiment\n",
    "print(\"Predicted Sentiment:\", prediction[0])"
   ]
  },
  {
   "cell_type": "markdown",
   "id": "3a2813b5",
   "metadata": {},
   "source": [
    "## Cross-Validation"
   ]
  },
  {
   "cell_type": "code",
   "execution_count": 30,
   "id": "5d55dff8",
   "metadata": {
    "scrolled": true
   },
   "outputs": [
    {
     "name": "stdout",
     "output_type": "stream",
     "text": [
      "Cross-Validation Accuracy Scores:\n",
      "Fold 1: 0.8842\n",
      "Fold 2: 0.8842\n",
      "Fold 3: 0.8526\n",
      "Fold 4: 0.7579\n",
      "Fold 5: 0.8617\n",
      "\n",
      "Average Accuracy: 0.8481\n"
     ]
    },
    {
     "name": "stderr",
     "output_type": "stream",
     "text": [
      "C:\\Users\\Krish Kabi\\anaconda3\\lib\\site-packages\\sklearn\\svm\\_base.py:985: ConvergenceWarning: Liblinear failed to converge, increase the number of iterations.\n",
      "  warnings.warn(\"Liblinear failed to converge, increase \"\n"
     ]
    }
   ],
   "source": [
    "from sklearn.model_selection import cross_val_score, StratifiedKFold\n",
    "from sklearn.pipeline import make_pipeline\n",
    "\n",
    "# Vectorized comment data (X) and labeled sentiment column (y)\n",
    "X = merged_df['string_map_data.Comment.value']\n",
    "y = merged_df['sentiment']\n",
    "\n",
    "# Create a pipeline with TF-IDF vectorization and Logistic Regression\n",
    "model = make_pipeline(\n",
    "    TfidfVectorizer(max_features=1000),\n",
    "    LogisticRegression(C=100, penalty='l1', solver='liblinear')\n",
    ")\n",
    "\n",
    "# Use stratified k-fold cross-validation\n",
    "stratified_kfold = StratifiedKFold(n_splits=5, shuffle=True, random_state=42)\n",
    "\n",
    "# Perform cross-validation and get accuracy scores\n",
    "accuracy_scores = cross_val_score(model, X, y, cv=stratified_kfold, scoring='accuracy')\n",
    "\n",
    "# Print the accuracy scores for each fold\n",
    "print(\"Cross-Validation Accuracy Scores:\")\n",
    "for fold, accuracy in enumerate(accuracy_scores, start=1):\n",
    "    print(f\"Fold {fold}: {accuracy:.4f}\")\n",
    "\n",
    "# Print the average accuracy across all folds\n",
    "print(f\"\\nAverage Accuracy: {accuracy_scores.mean():.4f}\")"
   ]
  },
  {
   "cell_type": "markdown",
   "id": "cac1064c",
   "metadata": {},
   "source": [
    "## Conclusion\n",
    "\n",
    "In this project, I successfully conducted sentiment analysis on my Instagram data using NLP techniques and various machine learning models. The primary goal was to predict sentiment labels (positive, negative, or neutral) based on the content of Instagram comments.\n",
    "\n",
    "Recommendations for Future Refinement:\n",
    "\n",
    "1. Explore Deep Learning Models:\n",
    "\n",
    "Investigate the use of more complex models, such as deep learning architectures (e.g., recurrent neural networks or transformers) for potential improvements in capturing nuanced sentiments.\n",
    "\n",
    "2. Ensemble Methods:\n",
    "\n",
    "Experiment with ensemble methods like Random Forests or stacking multiple models to further enhance predictive performance.\n",
    "\n",
    "3. Data Augmentation:\n",
    "\n",
    "Augment the dataset by collecting more Instagram data or incorporating external datasets to improve model robustness and diversity.\n",
    "\n",
    "4. Fine-Tune Preprocessing:\n",
    "\n",
    "Continuously refine text preprocessing steps, including experimenting with different lemmatization techniques, stopwords, and text cleaning methods.\n",
    "\n",
    "5. Continuous Monitoring:\n",
    "\n",
    "Monitor model performance over time and retrain it periodically with new data to ensure its relevancy and effectiveness.\n",
    "\n",
    "\n",
    "Overall, this sentiment analysis project has provided valuable insights into the sentiment dynamics of my Instagram data. As I move forward, implementing these recommendations will contribute to the ongoing refinement and optimization of the sentiment analysis model."
   ]
  }
 ],
 "metadata": {
  "kernelspec": {
   "display_name": "Python 3",
   "language": "python",
   "name": "python3"
  },
  "language_info": {
   "codemirror_mode": {
    "name": "ipython",
    "version": 3
   },
   "file_extension": ".py",
   "mimetype": "text/x-python",
   "name": "python",
   "nbconvert_exporter": "python",
   "pygments_lexer": "ipython3",
   "version": "3.8.8"
  }
 },
 "nbformat": 4,
 "nbformat_minor": 5
}
